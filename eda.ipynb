{
 "cells": [
  {
   "cell_type": "markdown",
   "metadata": {},
   "source": [
    "# Exploring the data\n",
    "Let's import pandas and the db_utils code we've written."
   ]
  },
  {
   "cell_type": "code",
   "execution_count": 4,
   "metadata": {},
   "outputs": [],
   "source": [
    "import db_utils as dbu\n",
    "import pandas as pd"
   ]
  },
  {
   "cell_type": "markdown",
   "metadata": {},
   "source": [
    "Now we can set up a dataframe from the csv file."
   ]
  },
  {
   "cell_type": "code",
   "execution_count": 5,
   "metadata": {},
   "outputs": [],
   "source": [
    "df = dbu.csv_to_df('loan_payments.csv')"
   ]
  },
  {
   "cell_type": "markdown",
   "metadata": {},
   "source": [
    "Let's have a quick look at the data."
   ]
  },
  {
   "cell_type": "code",
   "execution_count": 6,
   "metadata": {},
   "outputs": [
    {
     "name": "stdout",
     "output_type": "stream",
     "text": [
      "         id  member_id  loan_amount  funded_amount  funded_amount_inv  \\\n",
      "0  38676116   41461848         8000         8000.0             8000.0   \n",
      "1  38656203   41440010        13200        13200.0            13200.0   \n",
      "2  38656154   41439961        16000        16000.0            16000.0   \n",
      "3  38656128   41439934        15000        15000.0            15000.0   \n",
      "4  38656121   41439927        15000        15000.0            15000.0   \n",
      "\n",
      "        term  int_rate  instalment grade sub_grade  ... recoveries  \\\n",
      "0  36 months      7.49      248.82     A        A4  ...        0.0   \n",
      "1  36 months      6.99      407.52     A        A3  ...        0.0   \n",
      "2  36 months      7.49      497.63     A        A4  ...        0.0   \n",
      "3  36 months     14.31      514.93     C        C4  ...        0.0   \n",
      "4  36 months      6.03      456.54     A        A1  ...        0.0   \n",
      "\n",
      "  collection_recovery_fee  last_payment_date last_payment_amount  \\\n",
      "0                     0.0           Jan-2022              248.82   \n",
      "1                     0.0           Jan-2022              407.52   \n",
      "2                     0.0           Oct-2021            12850.16   \n",
      "3                     0.0           Jun-2021            13899.67   \n",
      "4                     0.0           Jan-2022              456.54   \n",
      "\n",
      "  next_payment_date last_credit_pull_date collections_12_mths_ex_med  \\\n",
      "0          Feb-2022              Jan-2022                        0.0   \n",
      "1          Feb-2022              Jan-2022                        0.0   \n",
      "2               NaN              Oct-2021                        0.0   \n",
      "3               NaN              Jun-2021                        0.0   \n",
      "4          Feb-2022              Jan-2022                        0.0   \n",
      "\n",
      "  mths_since_last_major_derog  policy_code  application_type  \n",
      "0                         5.0            1        INDIVIDUAL  \n",
      "1                         NaN            1        INDIVIDUAL  \n",
      "2                         NaN            1        INDIVIDUAL  \n",
      "3                         NaN            1        INDIVIDUAL  \n",
      "4                         NaN            1        INDIVIDUAL  \n",
      "\n",
      "[5 rows x 43 columns]\n"
     ]
    }
   ],
   "source": [
    "print(df.head())"
   ]
  },
  {
   "cell_type": "code",
   "execution_count": 7,
   "metadata": {},
   "outputs": [
    {
     "name": "stdout",
     "output_type": "stream",
     "text": [
      "<class 'pandas.core.frame.DataFrame'>\n",
      "Index: 54231 entries, 0 to 54230\n",
      "Data columns (total 43 columns):\n",
      " #   Column                       Non-Null Count  Dtype  \n",
      "---  ------                       --------------  -----  \n",
      " 0   id                           54231 non-null  int64  \n",
      " 1   member_id                    54231 non-null  int64  \n",
      " 2   loan_amount                  54231 non-null  int64  \n",
      " 3   funded_amount                51224 non-null  float64\n",
      " 4   funded_amount_inv            54231 non-null  float64\n",
      " 5   term                         49459 non-null  object \n",
      " 6   int_rate                     49062 non-null  float64\n",
      " 7   instalment                   54231 non-null  float64\n",
      " 8   grade                        54231 non-null  object \n",
      " 9   sub_grade                    54231 non-null  object \n",
      " 10  employment_length            52113 non-null  object \n",
      " 11  home_ownership               54231 non-null  object \n",
      " 12  annual_inc                   54231 non-null  float64\n",
      " 13  verification_status          54231 non-null  object \n",
      " 14  issue_date                   54231 non-null  object \n",
      " 15  loan_status                  54231 non-null  object \n",
      " 16  payment_plan                 54231 non-null  object \n",
      " 17  purpose                      54231 non-null  object \n",
      " 18  dti                          54231 non-null  float64\n",
      " 19  delinq_2yrs                  54231 non-null  int64  \n",
      " 20  earliest_credit_line         54231 non-null  object \n",
      " 21  inq_last_6mths               54231 non-null  int64  \n",
      " 22  mths_since_last_delinq       23229 non-null  float64\n",
      " 23  mths_since_last_record       6181 non-null   float64\n",
      " 24  open_accounts                54231 non-null  int64  \n",
      " 25  total_accounts               54231 non-null  int64  \n",
      " 26  out_prncp                    54231 non-null  float64\n",
      " 27  out_prncp_inv                54231 non-null  float64\n",
      " 28  total_payment                54231 non-null  float64\n",
      " 29  total_payment_inv            54231 non-null  float64\n",
      " 30  total_rec_prncp              54231 non-null  float64\n",
      " 31  total_rec_int                54231 non-null  float64\n",
      " 32  total_rec_late_fee           54231 non-null  float64\n",
      " 33  recoveries                   54231 non-null  float64\n",
      " 34  collection_recovery_fee      54231 non-null  float64\n",
      " 35  last_payment_date            54158 non-null  object \n",
      " 36  last_payment_amount          54231 non-null  float64\n",
      " 37  next_payment_date            21623 non-null  object \n",
      " 38  last_credit_pull_date        54224 non-null  object \n",
      " 39  collections_12_mths_ex_med   54180 non-null  float64\n",
      " 40  mths_since_last_major_derog  7499 non-null   float64\n",
      " 41  policy_code                  54231 non-null  int64  \n",
      " 42  application_type             54231 non-null  object \n",
      "dtypes: float64(20), int64(8), object(15)\n",
      "memory usage: 18.2+ MB\n",
      "None\n"
     ]
    }
   ],
   "source": [
    "print(df.info())"
   ]
  },
  {
   "cell_type": "markdown",
   "metadata": {},
   "source": [
    "We can see that 'term' is an object when it makes more sense for it just to be the number of months.  We can use the DataTransform class to fix this.  Let's create an instance of the class with the dataframe."
   ]
  },
  {
   "cell_type": "code",
   "execution_count": 8,
   "metadata": {},
   "outputs": [],
   "source": [
    "transform = dbu.DataTransform(df)"
   ]
  },
  {
   "cell_type": "markdown",
   "metadata": {},
   "source": [
    "We can now split off the number of months as a new column."
   ]
  },
  {
   "cell_type": "code",
   "execution_count": 9,
   "metadata": {},
   "outputs": [
    {
     "name": "stdout",
     "output_type": "stream",
     "text": [
      "Column 'term_numerical' created with numerical values extracted from 'term'.\n"
     ]
    }
   ],
   "source": [
    "transform.extract_numerical('term')"
   ]
  },
  {
   "cell_type": "markdown",
   "metadata": {},
   "source": [
    "Let's check it worked.  "
   ]
  },
  {
   "cell_type": "code",
   "execution_count": 14,
   "metadata": {},
   "outputs": [
    {
     "data": {
      "text/html": [
       "<div>\n",
       "<style scoped>\n",
       "    .dataframe tbody tr th:only-of-type {\n",
       "        vertical-align: middle;\n",
       "    }\n",
       "\n",
       "    .dataframe tbody tr th {\n",
       "        vertical-align: top;\n",
       "    }\n",
       "\n",
       "    .dataframe thead th {\n",
       "        text-align: right;\n",
       "    }\n",
       "</style>\n",
       "<table border=\"1\" class=\"dataframe\">\n",
       "  <thead>\n",
       "    <tr style=\"text-align: right;\">\n",
       "      <th></th>\n",
       "      <th>id</th>\n",
       "      <th>member_id</th>\n",
       "      <th>loan_amount</th>\n",
       "      <th>funded_amount</th>\n",
       "      <th>funded_amount_inv</th>\n",
       "      <th>term</th>\n",
       "      <th>int_rate</th>\n",
       "      <th>instalment</th>\n",
       "      <th>grade</th>\n",
       "      <th>sub_grade</th>\n",
       "      <th>...</th>\n",
       "      <th>collection_recovery_fee</th>\n",
       "      <th>last_payment_date</th>\n",
       "      <th>last_payment_amount</th>\n",
       "      <th>next_payment_date</th>\n",
       "      <th>last_credit_pull_date</th>\n",
       "      <th>collections_12_mths_ex_med</th>\n",
       "      <th>mths_since_last_major_derog</th>\n",
       "      <th>policy_code</th>\n",
       "      <th>application_type</th>\n",
       "      <th>term_numerical</th>\n",
       "    </tr>\n",
       "  </thead>\n",
       "  <tbody>\n",
       "    <tr>\n",
       "      <th>0</th>\n",
       "      <td>38676116</td>\n",
       "      <td>41461848</td>\n",
       "      <td>8000</td>\n",
       "      <td>8000.0</td>\n",
       "      <td>8000.0</td>\n",
       "      <td>36 months</td>\n",
       "      <td>7.49</td>\n",
       "      <td>248.82</td>\n",
       "      <td>A</td>\n",
       "      <td>A4</td>\n",
       "      <td>...</td>\n",
       "      <td>0.0</td>\n",
       "      <td>2022-01-01</td>\n",
       "      <td>248.82</td>\n",
       "      <td>Feb-2022</td>\n",
       "      <td>Jan-2022</td>\n",
       "      <td>0.0</td>\n",
       "      <td>5.0</td>\n",
       "      <td>1</td>\n",
       "      <td>INDIVIDUAL</td>\n",
       "      <td>1970-01</td>\n",
       "    </tr>\n",
       "    <tr>\n",
       "      <th>1</th>\n",
       "      <td>38656203</td>\n",
       "      <td>41440010</td>\n",
       "      <td>13200</td>\n",
       "      <td>13200.0</td>\n",
       "      <td>13200.0</td>\n",
       "      <td>36 months</td>\n",
       "      <td>6.99</td>\n",
       "      <td>407.52</td>\n",
       "      <td>A</td>\n",
       "      <td>A3</td>\n",
       "      <td>...</td>\n",
       "      <td>0.0</td>\n",
       "      <td>2022-01-01</td>\n",
       "      <td>407.52</td>\n",
       "      <td>Feb-2022</td>\n",
       "      <td>Jan-2022</td>\n",
       "      <td>0.0</td>\n",
       "      <td>NaN</td>\n",
       "      <td>1</td>\n",
       "      <td>INDIVIDUAL</td>\n",
       "      <td>1970-01</td>\n",
       "    </tr>\n",
       "    <tr>\n",
       "      <th>2</th>\n",
       "      <td>38656154</td>\n",
       "      <td>41439961</td>\n",
       "      <td>16000</td>\n",
       "      <td>16000.0</td>\n",
       "      <td>16000.0</td>\n",
       "      <td>36 months</td>\n",
       "      <td>7.49</td>\n",
       "      <td>497.63</td>\n",
       "      <td>A</td>\n",
       "      <td>A4</td>\n",
       "      <td>...</td>\n",
       "      <td>0.0</td>\n",
       "      <td>2021-10-01</td>\n",
       "      <td>12850.16</td>\n",
       "      <td>NaN</td>\n",
       "      <td>Oct-2021</td>\n",
       "      <td>0.0</td>\n",
       "      <td>NaN</td>\n",
       "      <td>1</td>\n",
       "      <td>INDIVIDUAL</td>\n",
       "      <td>1970-01</td>\n",
       "    </tr>\n",
       "    <tr>\n",
       "      <th>3</th>\n",
       "      <td>38656128</td>\n",
       "      <td>41439934</td>\n",
       "      <td>15000</td>\n",
       "      <td>15000.0</td>\n",
       "      <td>15000.0</td>\n",
       "      <td>36 months</td>\n",
       "      <td>14.31</td>\n",
       "      <td>514.93</td>\n",
       "      <td>C</td>\n",
       "      <td>C4</td>\n",
       "      <td>...</td>\n",
       "      <td>0.0</td>\n",
       "      <td>2021-06-01</td>\n",
       "      <td>13899.67</td>\n",
       "      <td>NaN</td>\n",
       "      <td>Jun-2021</td>\n",
       "      <td>0.0</td>\n",
       "      <td>NaN</td>\n",
       "      <td>1</td>\n",
       "      <td>INDIVIDUAL</td>\n",
       "      <td>1970-01</td>\n",
       "    </tr>\n",
       "    <tr>\n",
       "      <th>4</th>\n",
       "      <td>38656121</td>\n",
       "      <td>41439927</td>\n",
       "      <td>15000</td>\n",
       "      <td>15000.0</td>\n",
       "      <td>15000.0</td>\n",
       "      <td>36 months</td>\n",
       "      <td>6.03</td>\n",
       "      <td>456.54</td>\n",
       "      <td>A</td>\n",
       "      <td>A1</td>\n",
       "      <td>...</td>\n",
       "      <td>0.0</td>\n",
       "      <td>2022-01-01</td>\n",
       "      <td>456.54</td>\n",
       "      <td>Feb-2022</td>\n",
       "      <td>Jan-2022</td>\n",
       "      <td>0.0</td>\n",
       "      <td>NaN</td>\n",
       "      <td>1</td>\n",
       "      <td>INDIVIDUAL</td>\n",
       "      <td>1970-01</td>\n",
       "    </tr>\n",
       "  </tbody>\n",
       "</table>\n",
       "<p>5 rows × 44 columns</p>\n",
       "</div>"
      ],
      "text/plain": [
       "         id  member_id  loan_amount  funded_amount  funded_amount_inv  \\\n",
       "0  38676116   41461848         8000         8000.0             8000.0   \n",
       "1  38656203   41440010        13200        13200.0            13200.0   \n",
       "2  38656154   41439961        16000        16000.0            16000.0   \n",
       "3  38656128   41439934        15000        15000.0            15000.0   \n",
       "4  38656121   41439927        15000        15000.0            15000.0   \n",
       "\n",
       "        term  int_rate  instalment grade sub_grade  ...  \\\n",
       "0  36 months      7.49      248.82     A        A4  ...   \n",
       "1  36 months      6.99      407.52     A        A3  ...   \n",
       "2  36 months      7.49      497.63     A        A4  ...   \n",
       "3  36 months     14.31      514.93     C        C4  ...   \n",
       "4  36 months      6.03      456.54     A        A1  ...   \n",
       "\n",
       "  collection_recovery_fee last_payment_date  last_payment_amount  \\\n",
       "0                     0.0        2022-01-01               248.82   \n",
       "1                     0.0        2022-01-01               407.52   \n",
       "2                     0.0        2021-10-01             12850.16   \n",
       "3                     0.0        2021-06-01             13899.67   \n",
       "4                     0.0        2022-01-01               456.54   \n",
       "\n",
       "  next_payment_date last_credit_pull_date collections_12_mths_ex_med  \\\n",
       "0          Feb-2022              Jan-2022                        0.0   \n",
       "1          Feb-2022              Jan-2022                        0.0   \n",
       "2               NaN              Oct-2021                        0.0   \n",
       "3               NaN              Jun-2021                        0.0   \n",
       "4          Feb-2022              Jan-2022                        0.0   \n",
       "\n",
       "  mths_since_last_major_derog policy_code  application_type  term_numerical  \n",
       "0                         5.0           1        INDIVIDUAL         1970-01  \n",
       "1                         NaN           1        INDIVIDUAL         1970-01  \n",
       "2                         NaN           1        INDIVIDUAL         1970-01  \n",
       "3                         NaN           1        INDIVIDUAL         1970-01  \n",
       "4                         NaN           1        INDIVIDUAL         1970-01  \n",
       "\n",
       "[5 rows x 44 columns]"
      ]
     },
     "execution_count": 14,
     "metadata": {},
     "output_type": "execute_result"
    }
   ],
   "source": [
    "df.head()"
   ]
  },
  {
   "cell_type": "markdown",
   "metadata": {},
   "source": [
    "Next let's try to format all the date columns as dates. "
   ]
  },
  {
   "cell_type": "code",
   "execution_count": 15,
   "metadata": {},
   "outputs": [
    {
     "name": "stdout",
     "output_type": "stream",
     "text": [
      "Column 'last_payment_date' converted to datetime format.\n",
      "Column 'issue_date' converted to datetime format.\n",
      "Column 'earliest_credit_line' converted to datetime format.\n",
      "Column 'next_payment_date' converted to datetime format.\n",
      "Column 'last_credit_pull_date' converted to datetime format.\n"
     ]
    },
    {
     "name": "stderr",
     "output_type": "stream",
     "text": [
      "/home/barney/aicore/eda_projects/customer_loans_in_finance/exploratory-data-analysis---customer-loans-in-finance635/db_utils.py:93: UserWarning: Could not infer format, so each element will be parsed individually, falling back to `dateutil`. To ensure parsing is consistent and as-expected, please specify a format.\n",
      "  \"\"\"\n",
      "/home/barney/aicore/eda_projects/customer_loans_in_finance/exploratory-data-analysis---customer-loans-in-finance635/db_utils.py:93: UserWarning: Could not infer format, so each element will be parsed individually, falling back to `dateutil`. To ensure parsing is consistent and as-expected, please specify a format.\n",
      "  \"\"\"\n",
      "/home/barney/aicore/eda_projects/customer_loans_in_finance/exploratory-data-analysis---customer-loans-in-finance635/db_utils.py:93: UserWarning: Could not infer format, so each element will be parsed individually, falling back to `dateutil`. To ensure parsing is consistent and as-expected, please specify a format.\n",
      "  \"\"\"\n",
      "/home/barney/aicore/eda_projects/customer_loans_in_finance/exploratory-data-analysis---customer-loans-in-finance635/db_utils.py:93: UserWarning: Could not infer format, so each element will be parsed individually, falling back to `dateutil`. To ensure parsing is consistent and as-expected, please specify a format.\n",
      "  \"\"\"\n"
     ]
    }
   ],
   "source": [
    "transform.format_to_date(\"last_payment_date\")\n",
    "transform.format_to_date(\"issue_date\")\n",
    "transform.format_to_date(\"earliest_credit_line\")\n",
    "transform.format_to_date(\"next_payment_date\")\n",
    "transform.format_to_date(\"last_credit_pull_date\")"
   ]
  },
  {
   "cell_type": "markdown",
   "metadata": {},
   "source": [
    "Now let's create an instance of the DataFrameInfo class from du_utils and test some of the methods."
   ]
  },
  {
   "cell_type": "code",
   "execution_count": 16,
   "metadata": {},
   "outputs": [
    {
     "ename": "AttributeError",
     "evalue": "module 'db_utils' has no attribute 'DataFrameInfo'",
     "output_type": "error",
     "traceback": [
      "\u001b[0;31m---------------------------------------------------------------------------\u001b[0m",
      "\u001b[0;31mAttributeError\u001b[0m                            Traceback (most recent call last)",
      "Cell \u001b[0;32mIn[16], line 1\u001b[0m\n\u001b[0;32m----> 1\u001b[0m df_info \u001b[38;5;241m=\u001b[39m dbu\u001b[38;5;241m.\u001b[39mDataFrameInfo(df)\n",
      "\u001b[0;31mAttributeError\u001b[0m: module 'db_utils' has no attribute 'DataFrameInfo'"
     ]
    }
   ],
   "source": [
    "df_info = dbu.DataFrameInfo(df)"
   ]
  }
 ],
 "metadata": {
  "kernelspec": {
   "display_name": "edafinance",
   "language": "python",
   "name": "python3"
  },
  "language_info": {
   "codemirror_mode": {
    "name": "ipython",
    "version": 3
   },
   "file_extension": ".py",
   "mimetype": "text/x-python",
   "name": "python",
   "nbconvert_exporter": "python",
   "pygments_lexer": "ipython3",
   "version": "3.12.4"
  }
 },
 "nbformat": 4,
 "nbformat_minor": 2
}
